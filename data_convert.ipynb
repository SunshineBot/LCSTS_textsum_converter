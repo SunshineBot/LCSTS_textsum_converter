{
 "cells": [
  {
   "cell_type": "code",
   "execution_count": 1,
   "metadata": {
    "collapsed": true
   },
   "outputs": [],
   "source": [
    "import re\n",
    "import os\n",
    "try:\n",
    "    import xml.etree.cElementTree as ET\n",
    "except ImportError:\n",
    "    import xml.etree.ElementTree as ET"
   ]
  },
  {
   "cell_type": "code",
   "execution_count": 13,
   "metadata": {
    "collapsed": true
   },
   "outputs": [],
   "source": [
    "filelist = ['PART_I.txt', 'PART_II.txt', 'PART_III.txt']\n",
    "# filelist = ['sample.txt']"
   ]
  },
  {
   "cell_type": "code",
   "execution_count": 14,
   "metadata": {
    "collapsed": true
   },
   "outputs": [],
   "source": [
    "def convert_xml(filename, base=None, converted_file='converted.tmp'):\n",
    "    # convert file to a valid xml file.\n",
    "    regex = re.compile(r'(?P<number>\\d+)>')\n",
    "    if base is None:\n",
    "        fpout = open(converted_file, 'w')\n",
    "        filepath = filename\n",
    "    else:\n",
    "        fpout = open(os.path.join(base, converted_file), 'w')\n",
    "        filepath = os.path.join(base, filename)\n",
    "    fpout.write('<root>\\n')\n",
    "    for line in open(filepath):\n",
    "        txt = regex.sub(lambda x: '\"%s\">' % x.group('number'), line)\n",
    "        if '<doc' in txt or '</doc>' in txt or 'summary>' in txt or 'short_text>' in txt or 'human_label>' in txt:\n",
    "            pass\n",
    "        else:\n",
    "            txt = txt.replace('&', '&amp;').replace('<', '&lt;').replace('>', '&gt;').replace('\"\"', '\"').replace('\"', '&quot;').replace(\"'\", '&apos;')\n",
    "        fpout.write(txt)\n",
    "    fpout.write('</root>')\n",
    "    fpout.close()"
   ]
  },
  {
   "cell_type": "code",
   "execution_count": 15,
   "metadata": {
    "collapsed": true
   },
   "outputs": [],
   "source": [
    "def convert_data(filename,  base=None, converted_file='converted.tmp'):\n",
    "    if base is None:\n",
    "        os.makedirs('converted', exist_ok=True)\n",
    "        fptrain = open(os.path.join('converted', filename), 'w')\n",
    "    else:\n",
    "        os.makedirs(os.path.join(base, 'converted'), exist_ok=True)\n",
    "        fptrain = open(os.path.join(base, 'converted', filename), 'w')\n",
    "        converted_file = os.path.join(base, converted_file)\n",
    "    xml = ET.ElementTree(file=converted_file)\n",
    "    root = xml.getroot()\n",
    "    for i, doc in enumerate(root):\n",
    "        summary = doc.find('summary').text.strip()\n",
    "        text = doc.find('short_text').text.strip()\n",
    "        text = '<d><p><s>' + text.replace('。', '。</s><s>') + '</s></p></d>'\n",
    "        fptrain.write('publisher=HIT\\tabstract=<d><p><s>{summary}</s></p></d>\\tarticle={text}\\n'.format(summary=summary, text=text))\n",
    "    fptrain.close()"
   ]
  },
  {
   "cell_type": "code",
   "execution_count": 16,
   "metadata": {
    "collapsed": true
   },
   "outputs": [],
   "source": [
    "for filename in filelist:\n",
    "    convert_xml(filename, base='../DATA')\n",
    "    convert_data(filename, base='../DATA')"
   ]
  },
  {
   "cell_type": "code",
   "execution_count": null,
   "metadata": {
    "collapsed": true
   },
   "outputs": [],
   "source": []
  }
 ],
 "metadata": {
  "kernelspec": {
   "display_name": "Python 3",
   "language": "python",
   "name": "python3"
  },
  "language_info": {
   "codemirror_mode": {
    "name": "ipython",
    "version": 3
   },
   "file_extension": ".py",
   "mimetype": "text/x-python",
   "name": "python",
   "nbconvert_exporter": "python",
   "pygments_lexer": "ipython3",
   "version": "3.6.3"
  }
 },
 "nbformat": 4,
 "nbformat_minor": 2
}
